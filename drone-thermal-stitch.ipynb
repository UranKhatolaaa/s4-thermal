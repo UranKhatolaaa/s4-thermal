{
 "cells": [
  {
   "cell_type": "markdown",
   "id": "starting-determination",
   "metadata": {},
   "source": [
    "# Stitching thermal drone imagery"
   ]
  },
  {
   "cell_type": "code",
   "execution_count": 6,
   "id": "sapphire-carrier",
   "metadata": {},
   "outputs": [],
   "source": [
    "# Variable definition\n",
    "imgDir = 'data/lsm/Flight 1 - Library/'\n",
    "path = 'data/lsm/Flight 1.csv'"
   ]
  },
  {
   "cell_type": "code",
   "execution_count": 3,
   "id": "quality-planet",
   "metadata": {},
   "outputs": [
    {
     "name": "stdout",
     "output_type": "stream",
     "text": [
      "Requirement already satisfied: opencv-python in /opt/conda/lib/python3.7/site-packages (4.5.2.54)\n",
      "Requirement already satisfied: numpy>=1.14.5 in /opt/conda/lib/python3.7/site-packages (from opencv-python) (1.18.5)\n",
      "Note: you may need to restart the kernel to use updated packages.\n"
     ]
    }
   ],
   "source": [
    "#Import packages\n",
    "%pip install opencv-python\n",
    "import glob\n",
    "import rasterio as ro\n",
    "import cv2 as cv"
   ]
  },
  {
   "cell_type": "code",
   "execution_count": 7,
   "id": "innovative-substitute",
   "metadata": {},
   "outputs": [],
   "source": [
    "# Retrieve individual images\n",
    "imgs = [_ for _ in glob.glob(imgDir+'*.*') if _.endswith(('.jpg','.png','.tif'))]"
   ]
  },
  {
   "cell_type": "code",
   "execution_count": 4,
   "id": "atmospheric-village",
   "metadata": {},
   "outputs": [],
   "source": [
    "\"\"\"Raster import functions\"\"\"\n",
    "# Convert image raster to array\n",
    "def raster_to_array(file, crop=False):\n",
    "    img = ro.open(file)\n",
    "    return img.read()\n",
    "    #return get_training_array(img) if crop else img.read()\n",
    "\n",
    "# Function taking a raster input and outputting pandas dataframe\n",
    "def raster_to_df(file, cn='class', multidims = False, crop = False):\n",
    "    arr = raster_to_array(file, crop)\n",
    "    if multidims:\n",
    "        df = pd.DataFrame(arr.reshape(-1,len(arr)))\n",
    "        df['x'], df['y'] = np.tile(np.arange(arr.shape[2]),arr.shape[1]), np.repeat(range(arr.shape[1]),arr.shape[2])\n",
    "        df = df.set_index(['y','x'])\n",
    "    else: df = pd.DataFrame(arr[0]).stack().rename_axis(['y', 'x']).reset_index(name=cn).set_index(['y','x'])\n",
    "    return df, arr"
   ]
  },
  {
   "cell_type": "markdown",
   "id": "frank-gospel",
   "metadata": {},
   "source": [
    "## Rasterio read and warp"
   ]
  },
  {
   "cell_type": "code",
   "execution_count": 8,
   "id": "russian-universe",
   "metadata": {},
   "outputs": [
    {
     "name": "stderr",
     "output_type": "stream",
     "text": [
      "/opt/conda/lib/python3.7/site-packages/rasterio/__init__.py:216: NotGeoreferencedWarning: Dataset has no geotransform set. The identity matrix may be returned.\n",
      "  s = DatasetReader(path, driver=driver, sharing=sharing, **kwargs)\n"
     ]
    }
   ],
   "source": [
    "img = ro.open(imgs[0])"
   ]
  },
  {
   "cell_type": "code",
   "execution_count": 10,
   "id": "lesser-combat",
   "metadata": {},
   "outputs": [
    {
     "data": {
      "text/plain": [
       "array([[[232, 229, 232, ..., 176, 173, 171],\n",
       "        [244, 235, 233, ..., 176, 174, 173],\n",
       "        [236, 234, 235, ..., 173, 173, 173],\n",
       "        ...,\n",
       "        [231, 231, 232, ..., 142, 134, 130],\n",
       "        [227, 230, 233, ..., 138, 134, 131],\n",
       "        [227, 231, 234, ..., 137, 134, 132]],\n",
       "\n",
       "       [[108, 105, 108, ...,  39,  40,  41],\n",
       "        [121, 113, 111, ...,  39,  40,  41],\n",
       "        [116, 114, 116, ...,  39,  39,  39],\n",
       "        ...,\n",
       "        [ 60,  60,  61, ...,  49,  50,  53],\n",
       "        [ 56,  59,  61, ...,  48,  50,  52],\n",
       "        [ 56,  60,  62, ...,  48,  49,  51]],\n",
       "\n",
       "       [[ 10,   5,   8, ...,  67,  67,  67],\n",
       "        [ 25,  14,  12, ...,  67,  67,  65],\n",
       "        [ 21,  17,  16, ...,  66,  66,  64],\n",
       "        ...,\n",
       "        [ 42,  43,  44, ...,  94, 100, 105],\n",
       "        [ 36,  42,  47, ..., 100, 102, 107],\n",
       "        [ 36,  43,  48, ..., 106, 106, 107]]], dtype=uint8)"
      ]
     },
     "execution_count": 10,
     "metadata": {},
     "output_type": "execute_result"
    }
   ],
   "source": [
    "img."
   ]
  },
  {
   "cell_type": "markdown",
   "id": "official-planning",
   "metadata": {},
   "source": [
    "## OpenCV stitching"
   ]
  },
  {
   "cell_type": "code",
   "execution_count": 5,
   "id": "limiting-reward",
   "metadata": {},
   "outputs": [],
   "source": [
    "img = cv.imread(imgs[0])\n",
    "cv.imshow(\"Display\",img)"
   ]
  },
  {
   "cell_type": "code",
   "execution_count": null,
   "id": "residential-incidence",
   "metadata": {},
   "outputs": [],
   "source": []
  },
  {
   "cell_type": "code",
   "execution_count": null,
   "id": "musical-electron",
   "metadata": {},
   "outputs": [],
   "source": []
  }
 ],
 "metadata": {
  "kernelspec": {
   "display_name": "Python 3",
   "language": "python",
   "name": "python3"
  },
  "language_info": {
   "codemirror_mode": {
    "name": "ipython",
    "version": 3
   },
   "file_extension": ".py",
   "mimetype": "text/x-python",
   "name": "python",
   "nbconvert_exporter": "python",
   "pygments_lexer": "ipython3",
   "version": "3.7.10"
  }
 },
 "nbformat": 4,
 "nbformat_minor": 5
}
